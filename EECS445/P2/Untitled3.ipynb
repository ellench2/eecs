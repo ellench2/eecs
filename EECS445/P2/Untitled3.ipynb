{
 "cells": [
  {
   "cell_type": "code",
   "execution_count": 2,
   "id": "3d8c0a05-7692-45d9-a321-01b0cb1e5492",
   "metadata": {
    "tags": []
   },
   "outputs": [],
   "source": [
    "import os\n",
    "import random\n",
    "import numpy as np\n",
    "import pandas as pd\n",
    "import torch\n",
    "import math\n",
    "from matplotlib import pyplot as plt\n",
    "from imageio import imread\n",
    "from PIL import Image\n",
    "from torch.utils.data import Dataset, DataLoader\n",
    "from utils import config"
   ]
  },
  {
   "cell_type": "code",
   "execution_count": 14,
   "id": "bfbbe23e-147f-414c-8dd4-d14c51c5fdec",
   "metadata": {},
   "outputs": [],
   "source": [
    "X = np.array([[[[5,8],[0,3]],[[6,5],[7,9]],[[1,1],[2,3]]],[[[4,7],[9,1]],[[8,9],[4,3]],[[7,7],[8,8]]],[[[2,7],[2,9]],[[8,1],[0,6]],[[7,6],[8,6]]]], dtype=float)"
   ]
  },
  {
   "cell_type": "code",
   "execution_count": 15,
   "id": "fd457afa-cf3b-4794-944b-ad45e63f827a",
   "metadata": {
    "tags": []
   },
   "outputs": [
    {
     "name": "stdout",
     "output_type": "stream",
     "text": [
      "1.0\n",
      "1.0\n",
      "1.0\n",
      "0.9999999999999999\n",
      "1.0\n",
      "1.0\n"
     ]
    }
   ],
   "source": [
    "for i in range(X.shape[0]): #which image\n",
    "            for j in range(X.shape[3]): #which channel\n",
    "                channel_sum = 0\n",
    "                for k in range(X.shape[1]): #height\n",
    "                    for l in range(X.shape[2]): #width\n",
    "                        channel_sum += X[i,k,l,j]\n",
    "                channel_avg = channel_sum / (X.shape[1] * X.shape[2])\n",
    "                channel_squares = 0\n",
    "                for k in range(X.shape[1]): #height\n",
    "                    for l in range(X.shape[2]): #width\n",
    "                        channel_squares += (X[i,k,l,j] - channel_avg)**2\n",
    "                        X[i,k,l,j] -= channel_avg\n",
    "                channel_stdev = math.sqrt(channel_squares/(X.shape[1] * X.shape[2] - 1))\n",
    "                for k in range(X.shape[1]): #height\n",
    "                    for l in range(X.shape[2]): #width\n",
    "                        X[i,k,l,j] /= channel_stdev\n",
    "for i in range(X.shape[0]): #which image\n",
    "            for j in range(X.shape[3]): #which channel\n",
    "                channel_sum = 0\n",
    "                for k in range(X.shape[1]): #height\n",
    "                    for l in range(X.shape[2]): #width\n",
    "                        channel_sum += X[i,k,l,j]\n",
    "                channel_avg = channel_sum / (X.shape[1] * X.shape[2])\n",
    "                channel_squares = 0\n",
    "                for k in range(X.shape[1]): #height\n",
    "                    for l in range(X.shape[2]): #width\n",
    "                        channel_squares += (X[i,k,l,j] - channel_avg)**2\n",
    "                channel_stdev = math.sqrt(channel_squares/(X.shape[1] * X.shape[2] - 1))\n",
    "                print(channel_stdev)\n"
   ]
  },
  {
   "cell_type": "code",
   "execution_count": 10,
   "id": "d25c3507-664f-4577-b6b7-e9c145590e90",
   "metadata": {
    "tags": []
   },
   "outputs": [
    {
     "name": "stdout",
     "output_type": "stream",
     "text": [
      "[[[[ 0  0]\n",
      "   [-1  0]]\n",
      "\n",
      "  [[ 0  0]\n",
      "   [ 1  1]]\n",
      "\n",
      "  [[ 0  0]\n",
      "   [ 0  0]]]\n",
      "\n",
      "\n",
      " [[[ 0  0]\n",
      "   [ 0 -1]]\n",
      "\n",
      "  [[ 0  0]\n",
      "   [ 0  0]]\n",
      "\n",
      "  [[ 0  0]\n",
      "   [ 0  0]]]\n",
      "\n",
      "\n",
      " [[[ 0  0]\n",
      "   [ 0  1]]\n",
      "\n",
      "  [[ 0 -1]\n",
      "   [-1  0]]\n",
      "\n",
      "  [[ 0  0]\n",
      "   [ 0  0]]]]\n"
     ]
    }
   ],
   "source": []
  },
  {
   "cell_type": "code",
   "execution_count": 16,
   "id": "bfcf28ed-9b9f-48b2-8b27-ece34d1ed75d",
   "metadata": {
    "tags": []
   },
   "outputs": [
    {
     "name": "stdout",
     "output_type": "stream",
     "text": [
      "[[1 2]\n",
      " [3 4]]\n"
     ]
    }
   ],
   "source": [
    "a = np.array([[1,2],[3,4]])\n",
    "b = a\n",
    "print(b)"
   ]
  },
  {
   "cell_type": "code",
   "execution_count": 17,
   "id": "ae7937a7-2da8-4ca9-8ec8-edabe2e9e961",
   "metadata": {
    "tags": []
   },
   "outputs": [],
   "source": [
    "a = np.array([1])"
   ]
  },
  {
   "cell_type": "code",
   "execution_count": 18,
   "id": "b6e84234-344e-4f28-b49c-ddbf1123d14f",
   "metadata": {
    "tags": []
   },
   "outputs": [
    {
     "name": "stdout",
     "output_type": "stream",
     "text": [
      "[1]\n"
     ]
    }
   ],
   "source": [
    "print(a)"
   ]
  },
  {
   "cell_type": "code",
   "execution_count": 19,
   "id": "d93232b0-fbf8-483f-84f0-69c0fbdc6935",
   "metadata": {
    "tags": []
   },
   "outputs": [],
   "source": [
    "a = [2,3,4]"
   ]
  },
  {
   "cell_type": "code",
   "execution_count": 20,
   "id": "f4371f8a-b888-4d2d-aabc-3b7c80e0bbec",
   "metadata": {
    "tags": []
   },
   "outputs": [
    {
     "name": "stdout",
     "output_type": "stream",
     "text": [
      "[2, 3, 4]\n"
     ]
    }
   ],
   "source": [
    "print(a)"
   ]
  },
  {
   "cell_type": "code",
   "execution_count": 21,
   "id": "b8743884-f6e5-4834-840c-b7e43204e870",
   "metadata": {
    "tags": []
   },
   "outputs": [],
   "source": [
    "a = [2,3,4]"
   ]
  },
  {
   "cell_type": "code",
   "execution_count": 22,
   "id": "62564491-57b1-44b3-9190-867064f52740",
   "metadata": {
    "tags": []
   },
   "outputs": [
    {
     "name": "stdout",
     "output_type": "stream",
     "text": [
      "[2, 3, 4]\n"
     ]
    }
   ],
   "source": [
    "print(a)"
   ]
  },
  {
   "cell_type": "code",
   "execution_count": 2,
   "id": "b455b4d1-1f61-4687-9502-0c004faf2424",
   "metadata": {},
   "outputs": [],
   "source": [
    "import numpy as np\n",
    "b = np.empty((2))"
   ]
  },
  {
   "cell_type": "code",
   "execution_count": 3,
   "id": "f14246f0-eafe-4786-9ccd-20eced703b20",
   "metadata": {
    "tags": []
   },
   "outputs": [
    {
     "name": "stdout",
     "output_type": "stream",
     "text": [
      "[1. 2.]\n"
     ]
    }
   ],
   "source": [
    "b[0]=1\n",
    "b[1]=2\n",
    "print(b)"
   ]
  },
  {
   "cell_type": "code",
   "execution_count": 5,
   "id": "a23d653f-3501-4440-8f07-e491eb395e7f",
   "metadata": {
    "tags": []
   },
   "outputs": [
    {
     "data": {
      "text/plain": [
       "array([1., 2., 2.])"
      ]
     },
     "execution_count": 5,
     "metadata": {},
     "output_type": "execute_result"
    }
   ],
   "source": [
    "np.append(b,2)"
   ]
  },
  {
   "cell_type": "code",
   "execution_count": 6,
   "id": "cd40ef32-1a78-455d-aaf8-21cce4cb81e5",
   "metadata": {
    "tags": []
   },
   "outputs": [
    {
     "name": "stdout",
     "output_type": "stream",
     "text": [
      "[1. 2.]\n"
     ]
    }
   ],
   "source": [
    "print(b)"
   ]
  },
  {
   "cell_type": "code",
   "execution_count": 7,
   "id": "75f647b4-5c02-479e-8477-99f631e26bf0",
   "metadata": {
    "tags": []
   },
   "outputs": [
    {
     "name": "stdout",
     "output_type": "stream",
     "text": [
      "[1. 2. 3.]\n"
     ]
    }
   ],
   "source": [
    "b = np.append(b,3)\n",
    "print(b)"
   ]
  },
  {
   "cell_type": "code",
   "execution_count": 17,
   "id": "001aee62-dc1c-4a41-b0c6-0da997fe150f",
   "metadata": {
    "tags": []
   },
   "outputs": [],
   "source": [
    "c=np.empty((5,1))"
   ]
  },
  {
   "cell_type": "code",
   "execution_count": 18,
   "id": "8752b1a5-c89e-40d7-97d3-3ec55bd132d4",
   "metadata": {
    "tags": []
   },
   "outputs": [
    {
     "name": "stdout",
     "output_type": "stream",
     "text": [
      "[ 1.    2.75  6.   10.75 17.    2.  ]\n"
     ]
    }
   ],
   "source": []
  },
  {
   "cell_type": "code",
   "execution_count": 19,
   "id": "b98f02d1-9229-470f-8686-01810ad610b5",
   "metadata": {
    "tags": []
   },
   "outputs": [],
   "source": [
    "d=[]"
   ]
  },
  {
   "cell_type": "code",
   "execution_count": 20,
   "id": "9252ff35-0165-4b6d-a332-33ba3daa2b82",
   "metadata": {
    "tags": []
   },
   "outputs": [],
   "source": [
    "d=np.append(d,2)"
   ]
  },
  {
   "cell_type": "code",
   "execution_count": 21,
   "id": "88d988b0-8777-435d-9fba-33912288f3b4",
   "metadata": {
    "tags": []
   },
   "outputs": [
    {
     "name": "stdout",
     "output_type": "stream",
     "text": [
      "[2.]\n"
     ]
    }
   ],
   "source": [
    "print(d)"
   ]
  },
  {
   "cell_type": "code",
   "execution_count": null,
   "id": "31307f75-5566-4d1f-8097-d729bfa96b30",
   "metadata": {},
   "outputs": [],
   "source": []
  }
 ],
 "metadata": {
  "kernelspec": {
   "display_name": "Python 3 (ipykernel)",
   "language": "python",
   "name": "python3"
  },
  "language_info": {
   "codemirror_mode": {
    "name": "ipython",
    "version": 3
   },
   "file_extension": ".py",
   "mimetype": "text/x-python",
   "name": "python",
   "nbconvert_exporter": "python",
   "pygments_lexer": "ipython3",
   "version": "3.10.0"
  }
 },
 "nbformat": 4,
 "nbformat_minor": 5
}
