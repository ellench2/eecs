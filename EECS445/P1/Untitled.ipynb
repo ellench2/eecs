{
 "cells": [
  {
   "cell_type": "code",
   "execution_count": 91,
   "id": "74133e3d-97b6-4583-9845-ef0ea825cc87",
   "metadata": {},
   "outputs": [],
   "source": [
    "import pandas as pd\n",
    "import numpy as np\n",
    "import itertools\n",
    "import string\n",
    "\n",
    "\n",
    "from sklearn.svm import SVC, LinearSVC\n",
    "from sklearn.model_selection import StratifiedKFold\n",
    "from sklearn.datasets import make_classification\n",
    "from sklearn import metrics\n",
    "from sklearn.metrics import confusion_matrix\n",
    "from sklearn.metrics import accuracy_score\n",
    "from sklearn.metrics import f1_score\n",
    "from sklearn.pipeline import make_pipeline\n",
    "from sklearn.preprocessing import StandardScaler\n",
    "from matplotlib import pyplot as plt\n",
    "\n",
    "\n",
    "from helper import *\n",
    "\n",
    "import warnings\n",
    "from sklearn.exceptions import ConvergenceWarning\n",
    "\n",
    "warnings.simplefilter(action=\"ignore\", category=FutureWarning)\n",
    "warnings.simplefilter(action=\"ignore\", category=ConvergenceWarning)\n",
    "\n",
    "np.random.seed(445)\n",
    "\n",
    "\n",
    "def extract_word(input_string):\n",
    "    for i in input_string:\n",
    "        if i in string.punctuation:\n",
    "            temp = \"\"\n",
    "            temp += i\n",
    "            input_string = input_string.replace(temp, \"\")\n",
    "    return input_string.split()"
   ]
  },
  {
   "cell_type": "code",
   "execution_count": 92,
   "id": "e0b9e08e-bb5e-498d-aa19-d1ab012f7705",
   "metadata": {},
   "outputs": [
    {
     "name": "stdout",
     "output_type": "stream",
     "text": [
      "{'EECS': 3, '445': 5, 'is': 4, 'the': 6, 'best': 2, 'worst': 4, 'blah': 2, 'MATH': 2, 'hardest': 1, 'class': 3, 'hard': 1, 'fun': 1, 'project': 1}\n"
     ]
    }
   ],
   "source": [
    "d = {'text': [\"EECS. 445,,, is the best\", \"EECS. 445,,, is the worst\", \"blah blah 445\", \"MATH the best\", \"MATH the worst\",\n",
    "             \"445 is the hardest\", \"class is hard\", \"worst EECS class\", \"the fun class\", \"worst 445 project\"],\n",
    "     'label': [1, -1, 1, 1, -1, 1, -1, -1, 1, -1]}  \n",
    "  \n",
    "# Creating a Dataframe\n",
    "df = pd.DataFrame(d) \n",
    "  \n",
    "word_dict = {}\n",
    "n = len(df)\n",
    "for i in range(n):\n",
    "    curr_row = df['text'][i]\n",
    "    curr_row = extract_word(curr_row)\n",
    "    for j in curr_row:\n",
    "        if j in word_dict:\n",
    "            word_dict.update({j: word_dict.get(j) + 1})\n",
    "        if j not in word_dict:\n",
    "            word_dict[j] = 1\n",
    "print(word_dict)"
   ]
  },
  {
   "cell_type": "code",
   "execution_count": 93,
   "id": "e56e17cf-1450-456d-b01f-be192c98815e",
   "metadata": {},
   "outputs": [
    {
     "name": "stdout",
     "output_type": "stream",
     "text": [
      "[[1. 1. 1. 1. 1. 0. 0. 0. 0. 0. 0. 0. 0.]\n",
      " [1. 1. 1. 1. 0. 1. 0. 0. 0. 0. 0. 0. 0.]\n",
      " [0. 1. 0. 0. 0. 0. 1. 0. 0. 0. 0. 0. 0.]\n",
      " [0. 0. 0. 1. 1. 0. 0. 1. 0. 0. 0. 0. 0.]\n",
      " [0. 0. 0. 1. 0. 1. 0. 1. 0. 0. 0. 0. 0.]\n",
      " [0. 1. 1. 1. 0. 0. 0. 0. 1. 0. 0. 0. 0.]\n",
      " [0. 0. 1. 0. 0. 0. 0. 0. 0. 1. 1. 0. 0.]\n",
      " [1. 0. 0. 0. 0. 1. 0. 0. 0. 1. 0. 0. 0.]\n",
      " [0. 0. 0. 1. 0. 0. 0. 0. 0. 1. 0. 1. 0.]\n",
      " [0. 1. 0. 0. 0. 1. 0. 0. 0. 0. 0. 0. 1.]]\n"
     ]
    }
   ],
   "source": [
    "number_of_reviews = df.shape[0]\n",
    "number_of_words = len(word_dict)\n",
    "feature_matrix = np.zeros((number_of_reviews, number_of_words))\n",
    "for i in range(number_of_reviews):\n",
    "    curr_rev = extract_word(df['text'][i])\n",
    "    for j in range(len(word_dict)):\n",
    "        if list(word_dict)[j] in curr_rev:\n",
    "            feature_matrix[i][j] = 1\n",
    "print(feature_matrix)"
   ]
  },
  {
   "cell_type": "code",
   "execution_count": 94,
   "id": "8fb352b7-8606-4e85-ac8a-ba68fcbd2904",
   "metadata": {},
   "outputs": [],
   "source": [
    "skf = StratifiedKFold(n_splits=5)"
   ]
  },
  {
   "cell_type": "code",
   "execution_count": 95,
   "id": "69168e60-4365-4223-a337-48de3acc0e75",
   "metadata": {},
   "outputs": [
    {
     "name": "stdout",
     "output_type": "stream",
     "text": [
      "    0    1    2    3    4    5    6    7    8    9    10   11   12\n",
      "0  1.0  1.0  1.0  1.0  1.0  0.0  0.0  0.0  0.0  0.0  0.0  0.0  0.0\n",
      "1  1.0  1.0  1.0  1.0  0.0  1.0  0.0  0.0  0.0  0.0  0.0  0.0  0.0\n",
      "2  0.0  1.0  0.0  0.0  0.0  0.0  1.0  0.0  0.0  0.0  0.0  0.0  0.0\n",
      "3  0.0  0.0  0.0  1.0  1.0  0.0  0.0  1.0  0.0  0.0  0.0  0.0  0.0\n",
      "4  0.0  0.0  0.0  1.0  0.0  1.0  0.0  1.0  0.0  0.0  0.0  0.0  0.0\n",
      "5  0.0  1.0  1.0  1.0  0.0  0.0  0.0  0.0  1.0  0.0  0.0  0.0  0.0\n",
      "6  0.0  0.0  1.0  0.0  0.0  0.0  0.0  0.0  0.0  1.0  1.0  0.0  0.0\n",
      "7  1.0  0.0  0.0  0.0  0.0  1.0  0.0  0.0  0.0  1.0  0.0  0.0  0.0\n",
      "8  0.0  0.0  0.0  1.0  0.0  0.0  0.0  0.0  0.0  1.0  0.0  1.0  0.0\n",
      "9  0.0  1.0  0.0  0.0  0.0  1.0  0.0  0.0  0.0  0.0  0.0  0.0  1.0\n"
     ]
    }
   ],
   "source": [
    "X = pd.DataFrame(feature_matrix)\n",
    "print(X)"
   ]
  },
  {
   "cell_type": "code",
   "execution_count": 96,
   "id": "3e81e64f-49dd-4d1b-a70e-b2b22b8cb3ad",
   "metadata": {},
   "outputs": [
    {
     "name": "stdout",
     "output_type": "stream",
     "text": [
      "   0\n",
      "0  1\n",
      "1 -1\n",
      "2  1\n",
      "3  1\n",
      "4 -1\n",
      "5  1\n",
      "6 -1\n",
      "7 -1\n",
      "8  1\n",
      "9 -1\n"
     ]
    }
   ],
   "source": [
    "Y = np.array([1, -1, 1, 1, -1, 1, -1, -1, 1, -1])\n",
    "Y = pd.DataFrame(Y)\n",
    "print(Y)\n",
    "def performance(y_true, y_pred, metric=\"accuracy\"):\n",
    "    cv = metrics.confusion_matrix(ytrue,ypred)\n",
    "    tp = cv[0,0]\n",
    "    fp = cv[0,1]\n",
    "    fn = cv[1,0]\n",
    "    tn = cv[1,1]\n",
    "    if metric == \"accuracy\":\n",
    "        if tp+fp+fn+tn == 0:\n",
    "            return 0\n",
    "        else:\n",
    "            return (tp+tn)/(tp+tn+fp+fn)\n",
    "    if metric == \"precision\":\n",
    "        if tp+fp == 0:\n",
    "            return 0\n",
    "        else:\n",
    "            return tp/(tp+fp)\n",
    "    if metric == \"sensitivity\":\n",
    "        if tp+fn == 0:\n",
    "            return 0\n",
    "        else:\n",
    "            return tp/(tp+fn)\n",
    "    if metric == \"specificity\":\n",
    "        if tn+fp == 0:\n",
    "            return 0\n",
    "        else:\n",
    "            return tn/(tn+fp)\n",
    "    if metric == \"f1-score\":\n",
    "        if tp+fn == 0 or tn+fp == 0:\n",
    "            return 0\n",
    "        if tp/(tp+fn) + tn/(tn+fp) == 0:\n",
    "            return 0\n",
    "        else:\n",
    "            return 2*(tp/(tp+fn))*(tn/(tn+fp))/(tp/(tp+fn) + tn/(tn+fp))\n",
    "    else:\n",
    "        return 0"
   ]
  },
  {
   "cell_type": "code",
   "execution_count": 97,
   "id": "0f0bc7c0-b335-4ff8-ae3f-c7f1a348f3b3",
   "metadata": {},
   "outputs": [
    {
     "data": {
      "text/plain": [
       "'scores = []\\nmetric = \"accuracy\"\\npenalty=\"l2\"\\nloss=\"hinge\"\\ndual=True\\nlsvc = LinearSVC(penalty=penalty, loss=loss, dual=dual, C=10**0, random_state=445)\\nfor i, (train_index, test_index) in enumerate(skf.split(X, Y)):\\n    #print(f\"  Train: index={train_index}\")\\n    #print(f\"  Test:  index={test_index}\")\\n    xtrain = X.iloc[train_index]\\n    ytrain = Y.iloc[train_index]\\n    xtest = X.iloc[test_index]\\n    ytest = Y.iloc[test_index]\\n    ytrue = ytest\\n    #print(xtrain)\\n    #print(ytrain)\\n    lsvc.fit(xtrain, ytrain)\\n    if metric == \"AUROC\":\\n        ypred = lsvc.decision_function(xtest)\\n        scores.append(metrics.roc_auc_score(ytrue,ypred))\\n    else:\\n        ypred = lsvc.predict(xtest)\\n        scores.append(performance(ytrue,ypred,metric))\\nprint(scores)'"
      ]
     },
     "execution_count": 97,
     "metadata": {},
     "output_type": "execute_result"
    }
   ],
   "source": [
    "'''scores = []\n",
    "metric = \"accuracy\"\n",
    "penalty=\"l2\"\n",
    "loss=\"hinge\"\n",
    "dual=True\n",
    "lsvc = LinearSVC(penalty=penalty, loss=loss, dual=dual, C=10**0, random_state=445)\n",
    "for i, (train_index, test_index) in enumerate(skf.split(X, Y)):\n",
    "    #print(f\"  Train: index={train_index}\")\n",
    "    #print(f\"  Test:  index={test_index}\")\n",
    "    xtrain = X.iloc[train_index]\n",
    "    ytrain = Y.iloc[train_index]\n",
    "    xtest = X.iloc[test_index]\n",
    "    ytest = Y.iloc[test_index]\n",
    "    ytrue = ytest\n",
    "    #print(xtrain)\n",
    "    #print(ytrain)\n",
    "    lsvc.fit(xtrain, ytrain)\n",
    "    if metric == \"AUROC\":\n",
    "        ypred = lsvc.decision_function(xtest)\n",
    "        scores.append(metrics.roc_auc_score(ytrue,ypred))\n",
    "    else:\n",
    "        ypred = lsvc.predict(xtest)\n",
    "        scores.append(performance(ytrue,ypred,metric))\n",
    "print(scores)'''"
   ]
  },
  {
   "cell_type": "code",
   "execution_count": 98,
   "id": "b9fd6cd6-f571-40be-ba8b-1bfc97b3ff09",
   "metadata": {},
   "outputs": [],
   "source": [
    "\n",
    "def cv_performance(clf, X, y, k=5, metric=\"accuracy\"):\n",
    "    scores = []\n",
    "    skf = StratifiedKFold(n_splits=k)\n",
    "    for i, (train_index, test_index) in enumerate(skf.split(X, y)):\n",
    "        xtrain = X.iloc[train_index]\n",
    "        ytrain = y.iloc[train_index]\n",
    "        ytrue = y.iloc[test_index]\n",
    "        clf.fit(xtrain, ytrain)\n",
    "        if metric == \"AUROC\":\n",
    "            ypred = clf.decision_function(X.iloc[test_index])\n",
    "            scores.append(metrics.roc_auc_score(ytrue,ypred))\n",
    "        else:\n",
    "            ypred = clf.predict(X.iloc[test_index])\n",
    "            scores.append(performance(ytrue,ypred,metric))\n",
    "    return np.array(scores).mean()"
   ]
  },
  {
   "cell_type": "code",
   "execution_count": 108,
   "id": "6534143e-8a99-4d07-bc89-fabc64fba78a",
   "metadata": {},
   "outputs": [
    {
     "name": "stdout",
     "output_type": "stream",
     "text": [
      "0.001\n",
      "0.5\n",
      "0.01\n",
      "0.5\n",
      "0.1\n",
      "0.5\n",
      "1.0\n",
      "0.5\n",
      "10.0\n",
      "0.5\n",
      "100.0\n",
      "0.5\n",
      "1000.0\n",
      "0.5\n"
     ]
    },
    {
     "name": "stderr",
     "output_type": "stream",
     "text": [
      "/Users/ellenchlachidze/env/lib/python3.11/site-packages/sklearn/utils/validation.py:1143: DataConversionWarning: A column-vector y was passed when a 1d array was expected. Please change the shape of y to (n_samples, ), for example using ravel().\n",
      "  y = column_or_1d(y, warn=True)\n",
      "/Users/ellenchlachidze/env/lib/python3.11/site-packages/sklearn/utils/validation.py:1143: DataConversionWarning: A column-vector y was passed when a 1d array was expected. Please change the shape of y to (n_samples, ), for example using ravel().\n",
      "  y = column_or_1d(y, warn=True)\n",
      "/Users/ellenchlachidze/env/lib/python3.11/site-packages/sklearn/utils/validation.py:1143: DataConversionWarning: A column-vector y was passed when a 1d array was expected. Please change the shape of y to (n_samples, ), for example using ravel().\n",
      "  y = column_or_1d(y, warn=True)\n",
      "/Users/ellenchlachidze/env/lib/python3.11/site-packages/sklearn/utils/validation.py:1143: DataConversionWarning: A column-vector y was passed when a 1d array was expected. Please change the shape of y to (n_samples, ), for example using ravel().\n",
      "  y = column_or_1d(y, warn=True)\n",
      "/Users/ellenchlachidze/env/lib/python3.11/site-packages/sklearn/utils/validation.py:1143: DataConversionWarning: A column-vector y was passed when a 1d array was expected. Please change the shape of y to (n_samples, ), for example using ravel().\n",
      "  y = column_or_1d(y, warn=True)\n",
      "/Users/ellenchlachidze/env/lib/python3.11/site-packages/sklearn/utils/validation.py:1143: DataConversionWarning: A column-vector y was passed when a 1d array was expected. Please change the shape of y to (n_samples, ), for example using ravel().\n",
      "  y = column_or_1d(y, warn=True)\n",
      "/Users/ellenchlachidze/env/lib/python3.11/site-packages/sklearn/utils/validation.py:1143: DataConversionWarning: A column-vector y was passed when a 1d array was expected. Please change the shape of y to (n_samples, ), for example using ravel().\n",
      "  y = column_or_1d(y, warn=True)\n",
      "/Users/ellenchlachidze/env/lib/python3.11/site-packages/sklearn/utils/validation.py:1143: DataConversionWarning: A column-vector y was passed when a 1d array was expected. Please change the shape of y to (n_samples, ), for example using ravel().\n",
      "  y = column_or_1d(y, warn=True)\n",
      "/Users/ellenchlachidze/env/lib/python3.11/site-packages/sklearn/utils/validation.py:1143: DataConversionWarning: A column-vector y was passed when a 1d array was expected. Please change the shape of y to (n_samples, ), for example using ravel().\n",
      "  y = column_or_1d(y, warn=True)\n",
      "/Users/ellenchlachidze/env/lib/python3.11/site-packages/sklearn/utils/validation.py:1143: DataConversionWarning: A column-vector y was passed when a 1d array was expected. Please change the shape of y to (n_samples, ), for example using ravel().\n",
      "  y = column_or_1d(y, warn=True)\n",
      "/Users/ellenchlachidze/env/lib/python3.11/site-packages/sklearn/utils/validation.py:1143: DataConversionWarning: A column-vector y was passed when a 1d array was expected. Please change the shape of y to (n_samples, ), for example using ravel().\n",
      "  y = column_or_1d(y, warn=True)\n",
      "/Users/ellenchlachidze/env/lib/python3.11/site-packages/sklearn/utils/validation.py:1143: DataConversionWarning: A column-vector y was passed when a 1d array was expected. Please change the shape of y to (n_samples, ), for example using ravel().\n",
      "  y = column_or_1d(y, warn=True)\n",
      "/Users/ellenchlachidze/env/lib/python3.11/site-packages/sklearn/utils/validation.py:1143: DataConversionWarning: A column-vector y was passed when a 1d array was expected. Please change the shape of y to (n_samples, ), for example using ravel().\n",
      "  y = column_or_1d(y, warn=True)\n",
      "/Users/ellenchlachidze/env/lib/python3.11/site-packages/sklearn/utils/validation.py:1143: DataConversionWarning: A column-vector y was passed when a 1d array was expected. Please change the shape of y to (n_samples, ), for example using ravel().\n",
      "  y = column_or_1d(y, warn=True)\n",
      "/Users/ellenchlachidze/env/lib/python3.11/site-packages/sklearn/utils/validation.py:1143: DataConversionWarning: A column-vector y was passed when a 1d array was expected. Please change the shape of y to (n_samples, ), for example using ravel().\n",
      "  y = column_or_1d(y, warn=True)\n",
      "/Users/ellenchlachidze/env/lib/python3.11/site-packages/sklearn/utils/validation.py:1143: DataConversionWarning: A column-vector y was passed when a 1d array was expected. Please change the shape of y to (n_samples, ), for example using ravel().\n",
      "  y = column_or_1d(y, warn=True)\n",
      "/Users/ellenchlachidze/env/lib/python3.11/site-packages/sklearn/utils/validation.py:1143: DataConversionWarning: A column-vector y was passed when a 1d array was expected. Please change the shape of y to (n_samples, ), for example using ravel().\n",
      "  y = column_or_1d(y, warn=True)\n",
      "/Users/ellenchlachidze/env/lib/python3.11/site-packages/sklearn/utils/validation.py:1143: DataConversionWarning: A column-vector y was passed when a 1d array was expected. Please change the shape of y to (n_samples, ), for example using ravel().\n",
      "  y = column_or_1d(y, warn=True)\n",
      "/Users/ellenchlachidze/env/lib/python3.11/site-packages/sklearn/utils/validation.py:1143: DataConversionWarning: A column-vector y was passed when a 1d array was expected. Please change the shape of y to (n_samples, ), for example using ravel().\n",
      "  y = column_or_1d(y, warn=True)\n",
      "/Users/ellenchlachidze/env/lib/python3.11/site-packages/sklearn/utils/validation.py:1143: DataConversionWarning: A column-vector y was passed when a 1d array was expected. Please change the shape of y to (n_samples, ), for example using ravel().\n",
      "  y = column_or_1d(y, warn=True)\n",
      "/Users/ellenchlachidze/env/lib/python3.11/site-packages/sklearn/utils/validation.py:1143: DataConversionWarning: A column-vector y was passed when a 1d array was expected. Please change the shape of y to (n_samples, ), for example using ravel().\n",
      "  y = column_or_1d(y, warn=True)\n",
      "/Users/ellenchlachidze/env/lib/python3.11/site-packages/sklearn/utils/validation.py:1143: DataConversionWarning: A column-vector y was passed when a 1d array was expected. Please change the shape of y to (n_samples, ), for example using ravel().\n",
      "  y = column_or_1d(y, warn=True)\n",
      "/Users/ellenchlachidze/env/lib/python3.11/site-packages/sklearn/utils/validation.py:1143: DataConversionWarning: A column-vector y was passed when a 1d array was expected. Please change the shape of y to (n_samples, ), for example using ravel().\n",
      "  y = column_or_1d(y, warn=True)\n",
      "/Users/ellenchlachidze/env/lib/python3.11/site-packages/sklearn/utils/validation.py:1143: DataConversionWarning: A column-vector y was passed when a 1d array was expected. Please change the shape of y to (n_samples, ), for example using ravel().\n",
      "  y = column_or_1d(y, warn=True)\n",
      "/Users/ellenchlachidze/env/lib/python3.11/site-packages/sklearn/utils/validation.py:1143: DataConversionWarning: A column-vector y was passed when a 1d array was expected. Please change the shape of y to (n_samples, ), for example using ravel().\n",
      "  y = column_or_1d(y, warn=True)\n",
      "/Users/ellenchlachidze/env/lib/python3.11/site-packages/sklearn/utils/validation.py:1143: DataConversionWarning: A column-vector y was passed when a 1d array was expected. Please change the shape of y to (n_samples, ), for example using ravel().\n",
      "  y = column_or_1d(y, warn=True)\n",
      "/Users/ellenchlachidze/env/lib/python3.11/site-packages/sklearn/utils/validation.py:1143: DataConversionWarning: A column-vector y was passed when a 1d array was expected. Please change the shape of y to (n_samples, ), for example using ravel().\n",
      "  y = column_or_1d(y, warn=True)\n",
      "/Users/ellenchlachidze/env/lib/python3.11/site-packages/sklearn/utils/validation.py:1143: DataConversionWarning: A column-vector y was passed when a 1d array was expected. Please change the shape of y to (n_samples, ), for example using ravel().\n",
      "  y = column_or_1d(y, warn=True)\n",
      "/Users/ellenchlachidze/env/lib/python3.11/site-packages/sklearn/utils/validation.py:1143: DataConversionWarning: A column-vector y was passed when a 1d array was expected. Please change the shape of y to (n_samples, ), for example using ravel().\n",
      "  y = column_or_1d(y, warn=True)\n",
      "/Users/ellenchlachidze/env/lib/python3.11/site-packages/sklearn/utils/validation.py:1143: DataConversionWarning: A column-vector y was passed when a 1d array was expected. Please change the shape of y to (n_samples, ), for example using ravel().\n",
      "  y = column_or_1d(y, warn=True)\n",
      "/Users/ellenchlachidze/env/lib/python3.11/site-packages/sklearn/utils/validation.py:1143: DataConversionWarning: A column-vector y was passed when a 1d array was expected. Please change the shape of y to (n_samples, ), for example using ravel().\n",
      "  y = column_or_1d(y, warn=True)\n",
      "/Users/ellenchlachidze/env/lib/python3.11/site-packages/sklearn/utils/validation.py:1143: DataConversionWarning: A column-vector y was passed when a 1d array was expected. Please change the shape of y to (n_samples, ), for example using ravel().\n",
      "  y = column_or_1d(y, warn=True)\n",
      "/Users/ellenchlachidze/env/lib/python3.11/site-packages/sklearn/utils/validation.py:1143: DataConversionWarning: A column-vector y was passed when a 1d array was expected. Please change the shape of y to (n_samples, ), for example using ravel().\n",
      "  y = column_or_1d(y, warn=True)\n",
      "/Users/ellenchlachidze/env/lib/python3.11/site-packages/sklearn/utils/validation.py:1143: DataConversionWarning: A column-vector y was passed when a 1d array was expected. Please change the shape of y to (n_samples, ), for example using ravel().\n",
      "  y = column_or_1d(y, warn=True)\n",
      "/Users/ellenchlachidze/env/lib/python3.11/site-packages/sklearn/utils/validation.py:1143: DataConversionWarning: A column-vector y was passed when a 1d array was expected. Please change the shape of y to (n_samples, ), for example using ravel().\n",
      "  y = column_or_1d(y, warn=True)\n"
     ]
    }
   ],
   "source": [
    "maxsofar = 0\n",
    "k=5\n",
    "metric=\"accuracy\"\n",
    "C_range = np.array([0.001,0.01,0.1,1,10,100,1000])\n",
    "for i in C_range:\n",
    "    print(i)\n",
    "    clf = LinearSVC(penalty=penalty, loss=loss, dual=dual, C=i, random_state=445)\n",
    "    curperf = cv_performance(clf,X,Y,k,metric)\n",
    "    print(curperf)\n",
    "    if curperf > maxsofar:\n",
    "        maxsofar = curperf\n",
    "        maxi = i"
   ]
  },
  {
   "cell_type": "code",
   "execution_count": null,
   "id": "b7ef4b11-cb52-457f-abca-ae9696635dff",
   "metadata": {},
   "outputs": [],
   "source": []
  }
 ],
 "metadata": {
  "kernelspec": {
   "display_name": "Python 3 (ipykernel)",
   "language": "python",
   "name": "python3"
  },
  "language_info": {
   "codemirror_mode": {
    "name": "ipython",
    "version": 3
   },
   "file_extension": ".py",
   "mimetype": "text/x-python",
   "name": "python",
   "nbconvert_exporter": "python",
   "pygments_lexer": "ipython3",
   "version": "3.11.1"
  }
 },
 "nbformat": 4,
 "nbformat_minor": 5
}
