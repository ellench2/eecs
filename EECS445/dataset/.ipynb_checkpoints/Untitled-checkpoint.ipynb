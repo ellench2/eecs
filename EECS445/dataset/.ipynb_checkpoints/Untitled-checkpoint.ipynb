{
 "cells": [
  {
   "cell_type": "code",
   "execution_count": 7,
   "id": "88747249-63b8-4875-8f45-3a41f70f6a0c",
   "metadata": {},
   "outputs": [
    {
     "data": {
      "text/plain": [
       "array([[  1.,   1.,   1.,   1.,   1.,   1.],\n",
       "       [  1.,   2.,   4.,   8.,  16.,  32.],\n",
       "       [  1.,   3.,   9.,  27.,  81., 243.]])"
      ]
     },
     "execution_count": 7,
     "metadata": {},
     "output_type": "execute_result"
    }
   ],
   "source": [
    "import numpy as np\n",
    "import matplotlib.pyplot as plt\n",
    "\n",
    "\n",
    "def generate_polynomial_features(X, M):\n",
    "    \"\"\"\n",
    "    Create a polynomial feature mapping from input examples. Each element x\n",
    "    in X is mapped to an (M+1)-dimensional polynomial feature vector \n",
    "    i.e. [1, x, x^2, ...,x^M].\n",
    "\n",
    "    Args:\n",
    "        X: np.array, shape (n, 1). Each row is one instance.\n",
    "        M: a non-negative integer\n",
    "    \n",
    "    Returns:\n",
    "        Phi: np.array, shape (n, M+1)\n",
    "    \"\"\"\n",
    "    # TODO: Implement this function\n",
    "    n = len(X)\n",
    "    Phi = np.ones((n, M+1))\n",
    "    for i in range(n):\n",
    "        Phi[i,1] = X[i]\n",
    "    for i in range(n):\n",
    "        for j in range(2,M+1):\n",
    "            Phi[i,j] = Phi[i,j-1]*X[i]\n",
    "    return Phi\n",
    "\n",
    "X = np.array([1,2,3])\n",
    "M = 5\n",
    "generate_polynomial_features(X,M)"
   ]
  },
  {
   "cell_type": "code",
   "execution_count": 19,
   "id": "f565d8e8-caea-4bd3-bb21-c331e366e891",
   "metadata": {},
   "outputs": [
    {
     "name": "stdout",
     "output_type": "stream",
     "text": [
      "[10 12 14 16]\n"
     ]
    }
   ],
   "source": [
    "X = np.array([[1,2,3,4],[5,6,7,8],[9,1,2,3]])\n",
    "theta = np.array([[1],[1],[1],[1]])\n",
    "y = np.array([[1],[1],[1]])\n",
    "cur_sum = 0\n",
    "for i in range(len(X)):\n",
    "    cur_sum += ((y[i] - np.matmul(X[i],theta))**2)/2\n",
    "E_rms = cur_sum / len(X)"
   ]
  },
  {
   "cell_type": "code",
   "execution_count": 35,
   "id": "42cec644-075b-4c3e-88c6-8a939aa28db2",
   "metadata": {},
   "outputs": [
    {
     "name": "stdout",
     "output_type": "stream",
     "text": [
      "(2,)\n",
      "(2, 1)\n"
     ]
    }
   ],
   "source": [
    "X = np.array([[1,2],[3,4]])\n",
    "y = np.array([[3,4]])\n",
    "print(X[1].shape)\n",
    "print(y.shape)"
   ]
  },
  {
   "cell_type": "code",
   "execution_count": null,
   "id": "efd08b1a-f13c-46b2-ac21-c8e6d22aeca3",
   "metadata": {},
   "outputs": [],
   "source": []
  }
 ],
 "metadata": {
  "kernelspec": {
   "display_name": "Python 3 (ipykernel)",
   "language": "python",
   "name": "python3"
  },
  "language_info": {
   "codemirror_mode": {
    "name": "ipython",
    "version": 3
   },
   "file_extension": ".py",
   "mimetype": "text/x-python",
   "name": "python",
   "nbconvert_exporter": "python",
   "pygments_lexer": "ipython3",
   "version": "3.11.1"
  }
 },
 "nbformat": 4,
 "nbformat_minor": 5
}
